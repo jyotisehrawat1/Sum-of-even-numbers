{
 "cells": [
  {
   "cell_type": "code",
   "execution_count": 2,
   "id": "c43f14b9",
   "metadata": {},
   "outputs": [
    {
     "name": "stdout",
     "output_type": "stream",
     "text": [
      "enter the number: 150\n",
      "count of even number is:  75\n"
     ]
    }
   ],
   "source": [
    "#calculate the count of even numbers upto a given number n\n",
    "n= int(input(\"enter the number: \"))\n",
    "count_even= 0\n",
    "for i in range(1, n+1):\n",
    "    if i %2==0:\n",
    "        count_even+= 1\n",
    "print(\"count of even number is: \", count_even)\n"
   ]
  },
  {
   "cell_type": "code",
   "execution_count": null,
   "id": "c9feb39e",
   "metadata": {},
   "outputs": [],
   "source": []
  }
 ],
 "metadata": {
  "kernelspec": {
   "display_name": "Python 3 (ipykernel)",
   "language": "python",
   "name": "python3"
  },
  "language_info": {
   "codemirror_mode": {
    "name": "ipython",
    "version": 3
   },
   "file_extension": ".py",
   "mimetype": "text/x-python",
   "name": "python",
   "nbconvert_exporter": "python",
   "pygments_lexer": "ipython3",
   "version": "3.11.3"
  }
 },
 "nbformat": 4,
 "nbformat_minor": 5
}
